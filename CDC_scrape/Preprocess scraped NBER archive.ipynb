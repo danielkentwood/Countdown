{
 "cells": [
  {
   "cell_type": "code",
   "execution_count": 2,
   "metadata": {},
   "outputs": [],
   "source": [
    "import pandas as pd\n",
    "\n",
    "%matplotlib inline\n",
    "import matplotlib.pyplot as plt\n",
    "\n",
    "import seaborn as sns\n",
    "sns.set(color_codes=True)"
   ]
  },
  {
   "cell_type": "code",
   "execution_count": 15,
   "metadata": {},
   "outputs": [],
   "source": [
    "mortality = pd.read_csv('C:\\Users\\dwood\\Desktop\\Personal\\mort2004.csv',nrows=10**4,dtype=object)\n",
    "pd.options.display.max_rows = 999\n",
    "pd.options.display.max_columns = 100"
   ]
  },
  {
   "cell_type": "markdown",
   "metadata": {},
   "source": [
    "### useful info\n",
    "For column definitions up to 2004, see: http://www.nber.org/mortality/2003/mort2003.log\n",
    "\n",
    "For reading in really large csv files: https://stackoverflow.com/questions/25962114/how-to-read-a-6-gb-csv-file-with-pandas"
   ]
  },
  {
   "cell_type": "code",
   "execution_count": 17,
   "metadata": {
    "scrolled": true
   },
   "outputs": [
    {
     "data": {
      "text/plain": [
       "['rectype',\n",
       " 'restatus',\n",
       " 'stateoc',\n",
       " 'countyoc',\n",
       " 'exstatoc',\n",
       " 'popsizoc',\n",
       " 'staters',\n",
       " 'statersr',\n",
       " 'countyrs',\n",
       " 'cityrs',\n",
       " 'popsize',\n",
       " 'metro',\n",
       " 'exstares',\n",
       " 'pmsares',\n",
       " 'popsizrs',\n",
       " 'popmsa',\n",
       " 'cmsares',\n",
       " 'statbth',\n",
       " 'statbthr',\n",
       " 'educ89',\n",
       " 'educ',\n",
       " 'educflag',\n",
       " 'monthdth',\n",
       " 'sex',\n",
       " 'age',\n",
       " 'ageflag',\n",
       " 'ager52',\n",
       " 'ager27',\n",
       " 'ager12',\n",
       " 'ager22',\n",
       " 'placdth',\n",
       " 'marstat',\n",
       " 'weekday',\n",
       " 'year',\n",
       " 'injwork',\n",
       " 'mandeath',\n",
       " 'methdisp',\n",
       " 'autopsy',\n",
       " 'activity',\n",
       " 'injury',\n",
       " 'ucod',\n",
       " 'ucr358',\n",
       " 'ucr113',\n",
       " 'ucr130',\n",
       " 'ucr39',\n",
       " 'eanum',\n",
       " 'econdp_1',\n",
       " 'econds_1',\n",
       " 'enicon_1',\n",
       " 'econdp_2',\n",
       " 'econds_2',\n",
       " 'enicon_2',\n",
       " 'econdp_3',\n",
       " 'econds_3',\n",
       " 'enicon_3',\n",
       " 'econdp_4',\n",
       " 'econds_4',\n",
       " 'enicon_4',\n",
       " 'econdp_5',\n",
       " 'econds_5',\n",
       " 'enicon_5',\n",
       " 'econdp_6',\n",
       " 'econds_6',\n",
       " 'enicon_6',\n",
       " 'econdp_7',\n",
       " 'econds_7',\n",
       " 'enicon_7',\n",
       " 'econdp_8',\n",
       " 'econds_8',\n",
       " 'enicon_8',\n",
       " 'econdp_9',\n",
       " 'econds_9',\n",
       " 'enicon_9',\n",
       " 'econdp_10',\n",
       " 'econds_10',\n",
       " 'enicon_10',\n",
       " 'econdp_11',\n",
       " 'econds_11',\n",
       " 'enicon_11',\n",
       " 'econdp_12',\n",
       " 'econds_12',\n",
       " 'enicon_12',\n",
       " 'econdp_13',\n",
       " 'econds_13',\n",
       " 'enicon_13',\n",
       " 'econdp_14',\n",
       " 'econds_14',\n",
       " 'enicon_14',\n",
       " 'econdp_15',\n",
       " 'econds_15',\n",
       " 'enicon_15',\n",
       " 'econdp_16',\n",
       " 'econds_16',\n",
       " 'enicon_16',\n",
       " 'econdp_17',\n",
       " 'econds_17',\n",
       " 'enicon_17',\n",
       " 'econdp_18',\n",
       " 'econds_18',\n",
       " 'enicon_18',\n",
       " 'econdp_19',\n",
       " 'econds_19',\n",
       " 'enicon_19',\n",
       " 'econdp_20',\n",
       " 'econds_20',\n",
       " 'enicon_20',\n",
       " 'ranum',\n",
       " 'record_1',\n",
       " 'record_2',\n",
       " 'record_3',\n",
       " 'record_4',\n",
       " 'record_5',\n",
       " 'record_6',\n",
       " 'record_7',\n",
       " 'record_8',\n",
       " 'record_9',\n",
       " 'record_10',\n",
       " 'record_11',\n",
       " 'record_12',\n",
       " 'record_13',\n",
       " 'record_14',\n",
       " 'record_15',\n",
       " 'record_16',\n",
       " 'record_17',\n",
       " 'record_18',\n",
       " 'record_19',\n",
       " 'record_20',\n",
       " 'race',\n",
       " 'brace',\n",
       " 'raceimp',\n",
       " 'racer3',\n",
       " 'racer5',\n",
       " 'hispanic',\n",
       " 'hspanicr']"
      ]
     },
     "execution_count": 17,
     "metadata": {},
     "output_type": "execute_result"
    }
   ],
   "source": [
    "list(mortality.columns)"
   ]
  },
  {
   "cell_type": "code",
   "execution_count": 19,
   "metadata": {},
   "outputs": [],
   "source": [
    "feature_cols = ['cityrs','popsize','metro','popsizrs','statbth','educ89','educ','educflag',\n",
    "                'monthdth','sex','age','marstat','weekday','mandeath','ucr358','ucr113',\n",
    "                'ucr39','race','racer5','hispanic','hspanicr']"
   ]
  },
  {
   "cell_type": "code",
   "execution_count": 20,
   "metadata": {},
   "outputs": [],
   "source": [
    "mortality = mortality[feature_cols]\n"
   ]
  },
  {
   "cell_type": "code",
   "execution_count": 21,
   "metadata": {},
   "outputs": [
    {
     "data": {
      "text/html": [
       "<div>\n",
       "<style scoped>\n",
       "    .dataframe tbody tr th:only-of-type {\n",
       "        vertical-align: middle;\n",
       "    }\n",
       "\n",
       "    .dataframe tbody tr th {\n",
       "        vertical-align: top;\n",
       "    }\n",
       "\n",
       "    .dataframe thead th {\n",
       "        text-align: right;\n",
       "    }\n",
       "</style>\n",
       "<table border=\"1\" class=\"dataframe\">\n",
       "  <thead>\n",
       "    <tr style=\"text-align: right;\">\n",
       "      <th></th>\n",
       "      <th>cityrs</th>\n",
       "      <th>popsize</th>\n",
       "      <th>metro</th>\n",
       "      <th>popsizrs</th>\n",
       "      <th>statbth</th>\n",
       "      <th>educ89</th>\n",
       "      <th>educ</th>\n",
       "      <th>educflag</th>\n",
       "      <th>monthdth</th>\n",
       "      <th>sex</th>\n",
       "      <th>age</th>\n",
       "      <th>marstat</th>\n",
       "      <th>weekday</th>\n",
       "      <th>mandeath</th>\n",
       "      <th>ucr358</th>\n",
       "      <th>ucr113</th>\n",
       "      <th>ucr39</th>\n",
       "      <th>race</th>\n",
       "      <th>racer5</th>\n",
       "      <th>hispanic</th>\n",
       "      <th>hspanicr</th>\n",
       "    </tr>\n",
       "  </thead>\n",
       "  <tbody>\n",
       "    <tr>\n",
       "      <th>0</th>\n",
       "      <td>99999</td>\n",
       "      <td>9</td>\n",
       "      <td>1</td>\n",
       "      <td>1</td>\n",
       "      <td>MI</td>\n",
       "      <td>16</td>\n",
       "      <td>NaN</td>\n",
       "      <td>0</td>\n",
       "      <td>1</td>\n",
       "      <td>M</td>\n",
       "      <td>1038</td>\n",
       "      <td>M</td>\n",
       "      <td>5</td>\n",
       "      <td>7</td>\n",
       "      <td>98</td>\n",
       "      <td>28</td>\n",
       "      <td>15</td>\n",
       "      <td>1</td>\n",
       "      <td>1</td>\n",
       "      <td>100</td>\n",
       "      <td>6</td>\n",
       "    </tr>\n",
       "    <tr>\n",
       "      <th>1</th>\n",
       "      <td>99999</td>\n",
       "      <td>9</td>\n",
       "      <td>1</td>\n",
       "      <td>1</td>\n",
       "      <td>MA</td>\n",
       "      <td>10</td>\n",
       "      <td>NaN</td>\n",
       "      <td>0</td>\n",
       "      <td>1</td>\n",
       "      <td>M</td>\n",
       "      <td>1049</td>\n",
       "      <td>D</td>\n",
       "      <td>5</td>\n",
       "      <td>5</td>\n",
       "      <td>443</td>\n",
       "      <td>133</td>\n",
       "      <td>42</td>\n",
       "      <td>1</td>\n",
       "      <td>1</td>\n",
       "      <td>100</td>\n",
       "      <td>6</td>\n",
       "    </tr>\n",
       "    <tr>\n",
       "      <th>2</th>\n",
       "      <td>99999</td>\n",
       "      <td>9</td>\n",
       "      <td>1</td>\n",
       "      <td>0</td>\n",
       "      <td>MA</td>\n",
       "      <td>10</td>\n",
       "      <td>NaN</td>\n",
       "      <td>0</td>\n",
       "      <td>1</td>\n",
       "      <td>M</td>\n",
       "      <td>1054</td>\n",
       "      <td>S</td>\n",
       "      <td>6</td>\n",
       "      <td>7</td>\n",
       "      <td>380</td>\n",
       "      <td>110</td>\n",
       "      <td>36</td>\n",
       "      <td>1</td>\n",
       "      <td>1</td>\n",
       "      <td>100</td>\n",
       "      <td>6</td>\n",
       "    </tr>\n",
       "    <tr>\n",
       "      <th>3</th>\n",
       "      <td>99999</td>\n",
       "      <td>9</td>\n",
       "      <td>1</td>\n",
       "      <td>1</td>\n",
       "      <td>ZZ</td>\n",
       "      <td>6</td>\n",
       "      <td>NaN</td>\n",
       "      <td>0</td>\n",
       "      <td>1</td>\n",
       "      <td>M</td>\n",
       "      <td>1054</td>\n",
       "      <td>M</td>\n",
       "      <td>5</td>\n",
       "      <td>7</td>\n",
       "      <td>227</td>\n",
       "      <td>68</td>\n",
       "      <td>22</td>\n",
       "      <td>1</td>\n",
       "      <td>1</td>\n",
       "      <td>100</td>\n",
       "      <td>6</td>\n",
       "    </tr>\n",
       "    <tr>\n",
       "      <th>4</th>\n",
       "      <td>07000</td>\n",
       "      <td>1</td>\n",
       "      <td>1</td>\n",
       "      <td>1</td>\n",
       "      <td>ZZ</td>\n",
       "      <td>12</td>\n",
       "      <td>NaN</td>\n",
       "      <td>0</td>\n",
       "      <td>1</td>\n",
       "      <td>M</td>\n",
       "      <td>1061</td>\n",
       "      <td>M</td>\n",
       "      <td>5</td>\n",
       "      <td>7</td>\n",
       "      <td>215</td>\n",
       "      <td>63</td>\n",
       "      <td>21</td>\n",
       "      <td>2</td>\n",
       "      <td>2</td>\n",
       "      <td>100</td>\n",
       "      <td>7</td>\n",
       "    </tr>\n",
       "  </tbody>\n",
       "</table>\n",
       "</div>"
      ],
      "text/plain": [
       "  cityrs popsize metro popsizrs statbth educ89 educ educflag monthdth sex  \\\n",
       "0  99999       9     1        1      MI     16  NaN        0        1   M   \n",
       "1  99999       9     1        1      MA     10  NaN        0        1   M   \n",
       "2  99999       9     1        0      MA     10  NaN        0        1   M   \n",
       "3  99999       9     1        1      ZZ      6  NaN        0        1   M   \n",
       "4  07000       1     1        1      ZZ     12  NaN        0        1   M   \n",
       "\n",
       "    age marstat weekday mandeath ucr358 ucr113 ucr39 race racer5 hispanic  \\\n",
       "0  1038       M       5        7     98     28    15    1      1      100   \n",
       "1  1049       D       5        5    443    133    42    1      1      100   \n",
       "2  1054       S       6        7    380    110    36    1      1      100   \n",
       "3  1054       M       5        7    227     68    22    1      1      100   \n",
       "4  1061       M       5        7    215     63    21    2      2      100   \n",
       "\n",
       "  hspanicr  \n",
       "0        6  \n",
       "1        6  \n",
       "2        6  \n",
       "3        6  \n",
       "4        7  "
      ]
     },
     "execution_count": 21,
     "metadata": {},
     "output_type": "execute_result"
    }
   ],
   "source": [
    "mortality.head()"
   ]
  },
  {
   "cell_type": "code",
   "execution_count": 27,
   "metadata": {},
   "outputs": [
    {
     "name": "stdout",
     "output_type": "stream",
     "text": [
      "Requirement already satisfied: text2digits in c:\\users\\dwood\\appdata\\local\\continuum\\anaconda3\\envs\\3p7\\lib\\site-packages (0.0.8)\n"
     ]
    }
   ],
   "source": [
    "!pip3 install text2digits"
   ]
  },
  {
   "cell_type": "code",
   "execution_count": 30,
   "metadata": {},
   "outputs": [
    {
     "ename": "ImportError",
     "evalue": "No module named t2d",
     "output_type": "error",
     "traceback": [
      "\u001b[1;31m---------------------------------------------------------------------------\u001b[0m",
      "\u001b[1;31mImportError\u001b[0m                               Traceback (most recent call last)",
      "\u001b[1;32m<ipython-input-30-529c3332a063>\u001b[0m in \u001b[0;36m<module>\u001b[1;34m()\u001b[0m\n\u001b[1;32m----> 1\u001b[1;33m \u001b[1;32mimport\u001b[0m \u001b[0mt2d\u001b[0m\u001b[1;33m\u001b[0m\u001b[0m\n\u001b[0m",
      "\u001b[1;31mImportError\u001b[0m: No module named t2d"
     ]
    }
   ],
   "source": [
    "import t2d"
   ]
  },
  {
   "cell_type": "code",
   "execution_count": null,
   "metadata": {},
   "outputs": [],
   "source": []
  },
  {
   "cell_type": "code",
   "execution_count": null,
   "metadata": {},
   "outputs": [],
   "source": [
    "# decide which cols to use\n",
    "cols = ['countyoc','countyrs','staters','metro','educ89','educ','educflag','sex','age','marstat','weekday','year',]"
   ]
  },
  {
   "cell_type": "code",
   "execution_count": null,
   "metadata": {},
   "outputs": [],
   "source": [
    "list(d4.columns)"
   ]
  },
  {
   "cell_type": "code",
   "execution_count": 4,
   "metadata": {},
   "outputs": [],
   "source": [
    "import numpy as np\n"
   ]
  },
  {
   "cell_type": "code",
   "execution_count": null,
   "metadata": {},
   "outputs": [],
   "source": [
    "np.sort([int(i) for i in d4.ucr358.unique()])"
   ]
  },
  {
   "cell_type": "code",
   "execution_count": 13,
   "metadata": {},
   "outputs": [
    {
     "name": "stdout",
     "output_type": "stream",
     "text": [
      "['M' 'D' 'S' 'W' 'U']\n",
      "[0, 1, 2, 3, 4]\n"
     ]
    }
   ],
   "source": [
    "print(d4.marstat.unique())\n",
    "code_range = range(len(d4.marstat.unique()))\n",
    "print(code_range)"
   ]
  },
  {
   "cell_type": "code",
   "execution_count": 11,
   "metadata": {},
   "outputs": [],
   "source": [
    "# d4['marstat'].plot(kind='kde')"
   ]
  },
  {
   "cell_type": "code",
   "execution_count": 35,
   "metadata": {},
   "outputs": [],
   "source": [
    "def make_numeric(var):\n",
    "    newvar = var\n",
    "    unique_vals = var.unique()\n",
    "    for i,k in enumerate(var.unique()):\n",
    "        newvar = newvar.replace(k,i) \n",
    "\n",
    "    return newvar"
   ]
  },
  {
   "cell_type": "code",
   "execution_count": 40,
   "metadata": {},
   "outputs": [],
   "source": [
    "new_var = make_numeric(d4.ucr39)\n",
    "    \n",
    "    "
   ]
  },
  {
   "cell_type": "code",
   "execution_count": 41,
   "metadata": {},
   "outputs": [
    {
     "data": {
      "text/plain": [
       "array([ 0,  1,  2,  3,  4,  5,  6,  7,  8,  9, 10, 11, 12, 13, 14, 15, 16,\n",
       "       17, 18, 19, 20, 21, 22, 23, 24, 25, 26, 27, 28, 29, 30, 31, 32, 33,\n",
       "       34, 35, 36, 37], dtype=int64)"
      ]
     },
     "execution_count": 41,
     "metadata": {},
     "output_type": "execute_result"
    }
   ],
   "source": [
    "new_var.unique()"
   ]
  },
  {
   "cell_type": "code",
   "execution_count": 45,
   "metadata": {},
   "outputs": [
    {
     "data": {
      "text/plain": [
       "<matplotlib.axes._subplots.AxesSubplot at 0x2916c828>"
      ]
     },
     "execution_count": 45,
     "metadata": {},
     "output_type": "execute_result"
    },
    {
     "data": {
      "image/png": "[encoded data removed]",
      "text/plain": [
       "<Figure size 432x288 with 1 Axes>"
      ]
     },
     "metadata": {
      "needs_background": "light"
     },
     "output_type": "display_data"
    }
   ],
   "source": [
    "new_var.plot(kind = 'hist', bins=len(new_var.unique()))"
   ]
  },
  {
   "cell_type": "code",
   "execution_count": 46,
   "metadata": {},
   "outputs": [
    {
     "name": "stdout",
     "output_type": "stream",
     "text": [
      "<class 'pandas.core.frame.DataFrame'>\n",
      "RangeIndex: 10000 entries, 0 to 9999\n",
      "Columns: 134 entries, rectype to hspanicr\n",
      "dtypes: object(134)\n",
      "memory usage: 10.2+ MB\n"
     ]
    }
   ],
   "source": []
  },
  {
   "cell_type": "code",
   "execution_count": null,
   "metadata": {},
   "outputs": [],
   "source": []
  },
  {
   "cell_type": "code",
   "execution_count": null,
   "metadata": {},
   "outputs": [],
   "source": []
  }
 ],
 "metadata": {
  "kernelspec": {
   "display_name": "Python 2",
   "language": "python",
   "name": "python2"
  },
  "language_info": {
   "codemirror_mode": {
    "name": "ipython",
    "version": 2
   },
   "file_extension": ".py",
   "mimetype": "text/x-python",
   "name": "python",
   "nbconvert_exporter": "python",
   "pygments_lexer": "ipython2",
   "version": "2.7.16"
  }
 },
 "nbformat": 4,
 "nbformat_minor": 2
}
