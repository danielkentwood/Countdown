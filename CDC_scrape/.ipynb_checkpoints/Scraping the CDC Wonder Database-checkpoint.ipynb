{
 "cells": [
  {
   "cell_type": "markdown",
   "metadata": {},
   "source": [
    "# Scraping the CDC Wonder Database\n",
    "\n",
    "This method uses Selenium.\n",
    "\n",
    "Selenium tutorials:  \n",
    "http://www.eyalfrank.com/scraping-web-forms-with-selenium/\n",
    "https://realpython.com/modern-web-automation-with-python-and-selenium/\n",
    "https://medium.com/the-andela-way/introduction-to-web-scraping-using-selenium-7ec377a8cf72\n",
    "\n",
    "https://stackoverflow.com/questions/48286382/extract-option-values-from-drop-down-menu-using-selenium-beautiful-soup-pytho\n",
    "\n",
    "NOTE: This method requires ChromeDriver: \n",
    "https://sites.google.com/a/chromium.org/chromedriver/downloads\n",
    " \n",
    "Extract the chromedriver executable to a folder in the python path, which you can find by running:\n",
    "\n",
    "```echo $PATH```"
   ]
  },
  {
   "cell_type": "code",
   "execution_count": 1,
   "metadata": {
    "collapsed": true
   },
   "outputs": [],
   "source": [
    "from selenium import webdriver\n",
    "from selenium.webdriver.support.ui import Select\n",
    "from selenium.webdriver.support.ui import WebDriverWait"
   ]
  },
  {
   "cell_type": "markdown",
   "metadata": {},
   "source": [
    "### Getting past the agreement page"
   ]
  },
  {
   "cell_type": "code",
   "execution_count": 2,
   "metadata": {
    "collapsed": true
   },
   "outputs": [],
   "source": [
    "# The place we will direct our WebDriver to\n",
    "url = 'https://wonder.cdc.gov/ucd-icd10.html'\n",
    "# Creating the WebDriver object using the ChromeDriver\n",
    "driver = webdriver.Chrome()\n",
    "# Directing the driver to the defined url\n",
    "driver.get(url)\n",
    "# Get the ID of the \"I Agree\" Button\n",
    "agree_tab = driver.find_element_by_name('action-I Agree')"
   ]
  },
  {
   "cell_type": "code",
   "execution_count": 3,
   "metadata": {
    "collapsed": true
   },
   "outputs": [],
   "source": [
    "# \"Clicking\" on the \"I Agree\" Button\n",
    "agree_tab.click()"
   ]
  },
  {
   "cell_type": "markdown",
   "metadata": {},
   "source": [
    "## DEFINING THE ELEMENTS OF THE WEBFORM"
   ]
  },
  {
   "cell_type": "markdown",
   "metadata": {},
   "source": [
    "### 1. Table Layout"
   ]
  },
  {
   "cell_type": "code",
   "execution_count": null,
   "metadata": {
    "collapsed": true
   },
   "outputs": [],
   "source": [
    "# First, define the drivers for the 5 \"group by\" pulldown menus\n",
    "group_by_1 = Select(driver.find_element_by_name('B_1'))\n",
    "group_by_2 = Select(driver.find_element_by_name('B_2'))\n",
    "group_by_3 = Select(driver.find_element_by_name('B_3'))\n",
    "group_by_4 = Select(driver.find_element_by_name('B_4'))\n",
    "group_by_5 = Select(driver.find_element_by_name('B_5'))"
   ]
  },
  {
   "cell_type": "code",
   "execution_count": null,
   "metadata": {
    "collapsed": true
   },
   "outputs": [],
   "source": [
    "# Example: choose two values for a couple of menus\n",
    "group_by_1.select_by_visible_text('Gender')\n",
    "group_by_5.select_by_visible_text('Place of Death')"
   ]
  },
  {
   "cell_type": "code",
   "execution_count": null,
   "metadata": {
    "collapsed": true
   },
   "outputs": [],
   "source": [
    "# Which variables do I want to group by?"
   ]
  },
  {
   "cell_type": "markdown",
   "metadata": {},
   "source": [
    "### 2. Location"
   ]
  },
  {
   "cell_type": "code",
   "execution_count": null,
   "metadata": {
    "collapsed": true,
    "scrolled": true
   },
   "outputs": [],
   "source": [
    "# Gather information about each possible location in the menu.\n",
    "# We want every county in the country\n",
    "driver.find_element_by_name('finder-action-D76.V9-Close All').click()\n",
    "loc_driver = driver.find_element_by_name('F_D76.V9')\n",
    "loc_select = Select(loc_driver)\n",
    "loc_select.deselect_all()\n",
    "# Get a list of all the states\n",
    "states = [loc.text for loc in loc_driver.find_elements_by_tag_name('option')]\n",
    "states = states[1:]\n",
    "\n",
    "# Now build the list of counties\n",
    "# If you start getting errors about stale references, etc., try asking the driver to wait after\n",
    "# actions that require the browser to reload (e.g., button presses)\n",
    "#     driver.implicitly_wait(0.5)\n",
    "counties = []\n",
    "for state in states:\n",
    "    print(state)\n",
    "    # select each state\n",
    "    Select(driver.find_element_by_name('F_D76.V9')).select_by_visible_text(state)\n",
    "\n",
    "    # Expand it to counties\n",
    "    driver.find_element_by_name('finder-action-D76.V9-Open').click()\n",
    "    \n",
    "    # Grab the new counties and add them to the list of counties\n",
    "    all_loc = [loc.text for loc in driver.find_element_by_name('F_D76.V9').find_elements_by_tag_name('option')]\n",
    "    cur_counties = [i for i in all_loc if 'County' in i]\n",
    "    counties.append(cur_counties)\n",
    "    \n",
    "    # Collapse and deselect the current state\n",
    "    driver.find_element_by_name('finder-action-D76.V9-Close All').click()\n",
    "    Select(driver.find_element_by_name('F_D76.V9')).deselect_all()\n",
    "\n",
    "print(counties)\n",
    "\n",
    "# TO DO: save the counties variable as a separate cache file so you don't have to keep scraping\n",
    "# this during the design phase."
   ]
  },
  {
   "cell_type": "markdown",
   "metadata": {},
   "source": [
    "### 3. Demographics"
   ]
  },
  {
   "cell_type": "code",
   "execution_count": null,
   "metadata": {
    "collapsed": true
   },
   "outputs": [],
   "source": []
  },
  {
   "cell_type": "markdown",
   "metadata": {},
   "source": [
    "### 4. Year and month"
   ]
  },
  {
   "cell_type": "code",
   "execution_count": null,
   "metadata": {
    "collapsed": true
   },
   "outputs": [],
   "source": [
    "# # Year and month \"currently selected\" field\n",
    "# ym_field = driver.find_element_by_name('I_D76.V1')\n",
    "# # List of month/year\n",
    "# date_list = driver.find_element_by_name('F_D76.V1')\n",
    "\n",
    "# # Open (expand) button\n",
    "# date_open_button = driver.find_element_by_name('finder-action-D76.V1-Open')\n",
    "# # Close (collapse) button\n",
    "# date_close_button = driver.find_element_by_name('finder-action-D76.V1-Close')\n",
    "# # Close (collapse) all button\n",
    "# date_closeALL_button = driver.find_element_by_name('finder-action-D76.V1-Close All')"
   ]
  },
  {
   "cell_type": "code",
   "execution_count": null,
   "metadata": {
    "collapsed": true
   },
   "outputs": [],
   "source": [
    "# The range of years is from 1999-2016\n",
    "# Example: select the month 2009\n",
    "month_select = Select(driver.find_element_by_name('F_D76.V1'))\n",
    "month_select.deselect_all()\n",
    "month_select.select_by_value('2009')"
   ]
  },
  {
   "cell_type": "markdown",
   "metadata": {},
   "source": [
    "### 5. Weekday, autopsy, place of death"
   ]
  },
  {
   "cell_type": "code",
   "execution_count": null,
   "metadata": {
    "collapsed": true
   },
   "outputs": [],
   "source": []
  },
  {
   "cell_type": "markdown",
   "metadata": {},
   "source": [
    "### 6. Cause of death"
   ]
  },
  {
   "cell_type": "code",
   "execution_count": null,
   "metadata": {
    "collapsed": true
   },
   "outputs": [],
   "source": []
  },
  {
   "cell_type": "markdown",
   "metadata": {},
   "source": [
    "### 7. Other options"
   ]
  },
  {
   "cell_type": "code",
   "execution_count": null,
   "metadata": {
    "collapsed": true
   },
   "outputs": [],
   "source": []
  },
  {
   "cell_type": "code",
   "execution_count": null,
   "metadata": {
    "collapsed": true
   },
   "outputs": [],
   "source": []
  },
  {
   "cell_type": "code",
   "execution_count": null,
   "metadata": {
    "collapsed": true
   },
   "outputs": [],
   "source": []
  },
  {
   "cell_type": "code",
   "execution_count": null,
   "metadata": {
    "collapsed": true
   },
   "outputs": [],
   "source": []
  },
  {
   "cell_type": "code",
   "execution_count": null,
   "metadata": {
    "collapsed": true
   },
   "outputs": [],
   "source": []
  },
  {
   "cell_type": "code",
   "execution_count": null,
   "metadata": {
    "collapsed": true
   },
   "outputs": [],
   "source": [
    "# Define the 'Send' Button (this will execute the query)\n",
    "send_button = driver.find_element_by_name('action-Send')"
   ]
  },
  {
   "cell_type": "code",
   "execution_count": null,
   "metadata": {
    "collapsed": true
   },
   "outputs": [],
   "source": [
    "driver.quit()"
   ]
  },
  {
   "cell_type": "code",
   "execution_count": null,
   "metadata": {
    "collapsed": true
   },
   "outputs": [],
   "source": []
  }
 ],
 "metadata": {
  "kernelspec": {
   "display_name": "Python 2",
   "language": "python",
   "name": "python2"
  },
  "language_info": {
   "codemirror_mode": {
    "name": "ipython",
    "version": 2
   },
   "file_extension": ".py",
   "mimetype": "text/x-python",
   "name": "python",
   "nbconvert_exporter": "python",
   "pygments_lexer": "ipython2",
   "version": "2.7.14"
  }
 },
 "nbformat": 4,
 "nbformat_minor": 2
}
